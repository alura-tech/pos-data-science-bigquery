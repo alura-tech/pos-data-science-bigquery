{
  "nbformat": 4,
  "nbformat_minor": 0,
  "metadata": {
    "colab": {
      "provenance": []
    },
    "kernelspec": {
      "name": "python3",
      "display_name": "Python 3"
    },
    "language_info": {
      "name": "python"
    }
  },
  "cells": [
    {
      "cell_type": "markdown",
      "source": [
        "# Aula 4"
      ],
      "metadata": {
        "id": "_TJllKUGy9wO"
      }
    },
    {
      "cell_type": "markdown",
      "source": [
        "## Vídeo 4.1"
      ],
      "metadata": {
        "id": "gAebwGWtzBxf"
      }
    },
    {
      "cell_type": "code",
      "execution_count": null,
      "metadata": {
        "id": "aJvum9Uwh0Q1"
      },
      "outputs": [],
      "source": [
        "from google.cloud import bigquery\n",
        "from google.oauth2 import service_account"
      ]
    },
    {
      "cell_type": "code",
      "source": [
        "credenciais = service_account.Credentials.from_service_account_file('chave_teste.json')"
      ],
      "metadata": {
        "id": "szpz3iyFh9gC"
      },
      "execution_count": null,
      "outputs": []
    },
    {
      "cell_type": "code",
      "source": [
        "project_id = 'curso-teste-351120'"
      ],
      "metadata": {
        "id": "Dglk0iyjFmqZ"
      },
      "execution_count": null,
      "outputs": []
    },
    {
      "cell_type": "code",
      "source": [
        "cliente = bigquery.Client(credentials=credenciais, project=project_id)"
      ],
      "metadata": {
        "id": "8avi17SdF4HC"
      },
      "execution_count": null,
      "outputs": []
    },
    {
      "cell_type": "code",
      "source": [
        "trabalho_busca = cliente.query(\"\"\"\n",
        "SELECT *\n",
        "FROM `terremotos_brasil.centro_sismo2`;\n",
        "\"\"\")"
      ],
      "metadata": {
        "id": "Hvqg24GiHZ9i"
      },
      "execution_count": null,
      "outputs": []
    },
    {
      "cell_type": "code",
      "source": [
        "trabalho_busca.result().to_dataframe()"
      ],
      "metadata": {
        "id": "dS8khufcJV8B"
      },
      "execution_count": null,
      "outputs": []
    },
    {
      "cell_type": "code",
      "source": [
        "df = trabalho_busca.result().to_dataframe()"
      ],
      "metadata": {
        "id": "2qezawlmJkYp"
      },
      "execution_count": null,
      "outputs": []
    },
    {
      "cell_type": "code",
      "source": [
        "df.head()"
      ],
      "metadata": {
        "id": "pZksjau7EhbA"
      },
      "execution_count": null,
      "outputs": []
    },
    {
      "cell_type": "markdown",
      "source": [
        "## Vídeo 4.2"
      ],
      "metadata": {
        "id": "Fl7klI98mSxw"
      }
    },
    {
      "cell_type": "code",
      "source": [
        "trabalho_busca = cliente.query(\"\"\"\n",
        "SELECT Time, Latitude, Longitude, Depth_km, Magtype, Magnitude\n",
        "FROM `terremotos_brasil.centro_sismo2`\n",
        "WHERE Magtype IS NOT NULL;\n",
        "\"\"\")"
      ],
      "metadata": {
        "id": "ZGseMEUcEjPg"
      },
      "execution_count": null,
      "outputs": []
    },
    {
      "cell_type": "code",
      "source": [
        "trabalho_busca.result().to_dataframe()"
      ],
      "metadata": {
        "id": "8HpweHAHHfAy"
      },
      "execution_count": null,
      "outputs": []
    },
    {
      "cell_type": "code",
      "source": [
        "schema = [\n",
        "    bigquery.SchemaField(\"Time\", \"TIMESTAMP\", mode=\"REQUIRED\"),\n",
        "    bigquery.SchemaField(\"Latitude\",\"FLOAT\", mode=\"REQUIRED\"),\n",
        "    bigquery.SchemaField(\"Longitude\",\"FLOAT\", mode=\"REQUIRED\"),\n",
        "    bigquery.SchemaField(\"Depth_km\", \"FLOAT\", mode=\"NULLABLE\"),\n",
        "    bigquery.SchemaField(\"Magtype\",\"STRING\", mode=\"NULLABLE\"),\n",
        "    bigquery.SchemaField(\"Magnitude\", \"FLOAT\", mode=\"NULLABLE\")\n",
        "]"
      ],
      "metadata": {
        "id": "KDXy7T7dqLVR"
      },
      "execution_count": null,
      "outputs": []
    },
    {
      "cell_type": "code",
      "source": [
        "table_id = \"curso-teste-351120.terremotos_brasil.sismos_do_dia\""
      ],
      "metadata": {
        "id": "G65UctKBuk5K"
      },
      "execution_count": null,
      "outputs": []
    },
    {
      "cell_type": "code",
      "source": [
        "tabela = bigquery.Table(table_id,schema=schema)"
      ],
      "metadata": {
        "id": "kWy-aWRLvUzR"
      },
      "execution_count": null,
      "outputs": []
    },
    {
      "cell_type": "code",
      "source": [
        "tabela = cliente.create_table(tabela)"
      ],
      "metadata": {
        "id": "EekfRr4CHgep"
      },
      "execution_count": null,
      "outputs": []
    },
    {
      "cell_type": "code",
      "source": [
        "from datetime import datetime\n",
        "import pytz\n",
        "import pandas as pd"
      ],
      "metadata": {
        "id": "HAvGuWKF4ucD"
      },
      "execution_count": null,
      "outputs": []
    },
    {
      "cell_type": "code",
      "source": [
        "pytz.country_timezones['br']"
      ],
      "metadata": {
        "id": "s6dhLg_s-OHl"
      },
      "execution_count": null,
      "outputs": []
    },
    {
      "cell_type": "code",
      "source": [
        "pytz.timezone('America/Manaus').localize(datetime(2022, 9,14)).astimezone(pytz.utc)"
      ],
      "metadata": {
        "id": "ZdGjtQ--6JW8"
      },
      "execution_count": null,
      "outputs": []
    },
    {
      "cell_type": "code",
      "source": [
        "linhas = [\n",
        "    {\n",
        "     'Time':pytz.timezone('America/Manaus').localize(datetime(2022, 9,14)).astimezone(pytz.utc),\n",
        "     'Latitude':-59.04,\n",
        "     'Longitude':-16.70,\n",
        "     'Depth_km': 0.0,\n",
        "     'Magtype':'mb',\n",
        "     'Magnitude': 3.5},\n",
        "     {\n",
        "     'Time':pytz.timezone('America/Manaus').localize(datetime(2022, 9,2)).astimezone(pytz.utc),\n",
        "     'Latitude':-52.95,\n",
        "     'Longitude':-16.48,\n",
        "     'Depth_km': 0.0,\n",
        "     'Magtype':'mR',\n",
        "     'Magnitude': 2.8  \n",
        "     },\n",
        "]"
      ],
      "metadata": {
        "id": "fW1ldaqY34kr"
      },
      "execution_count": null,
      "outputs": []
    },
    {
      "cell_type": "code",
      "source": [
        "linhas"
      ],
      "metadata": {
        "id": "gnz-5gqK4iMj"
      },
      "execution_count": null,
      "outputs": []
    },
    {
      "cell_type": "code",
      "source": [
        "dataframe = pd.DataFrame(linhas)"
      ],
      "metadata": {
        "id": "s1x4VmtTBgx-"
      },
      "execution_count": null,
      "outputs": []
    },
    {
      "cell_type": "code",
      "source": [
        "dataframe"
      ],
      "metadata": {
        "id": "HjiuWbdLE0Nn"
      },
      "execution_count": null,
      "outputs": []
    },
    {
      "cell_type": "code",
      "source": [
        "trabalho = cliente.load_table_from_dataframe(\n",
        "    dataframe, table_id\n",
        ")\n",
        "# https://cloud.google.com/bigquery/docs/samples/bigquery-load-table-dataframe"
      ],
      "metadata": {
        "id": "sfGL-ae4ww7p"
      },
      "execution_count": null,
      "outputs": []
    },
    {
      "cell_type": "code",
      "source": [
        "trabalho.result()"
      ],
      "metadata": {
        "id": "M0KpCcPfGrXf"
      },
      "execution_count": null,
      "outputs": []
    },
    {
      "cell_type": "code",
      "source": [
        "trabalho = cliente.load_table_from_dataframe(\n",
        "    dataframe, 'curso-teste-351120.terremotos_brasil.centro_sismo2'\n",
        ")"
      ],
      "metadata": {
        "id": "K4ZF8VdS6apb"
      },
      "execution_count": null,
      "outputs": []
    },
    {
      "cell_type": "code",
      "source": [
        "trabalho_busca = cliente.query(\"\"\"\n",
        "SELECT *\n",
        "FROM `terremotos_brasil.centro_sismo2`\n",
        "WHERE Latitude = -52.95 AND Longitude=-16.48\n",
        "\"\"\")"
      ],
      "metadata": {
        "id": "-PFw81C2JvKX"
      },
      "execution_count": null,
      "outputs": []
    },
    {
      "cell_type": "code",
      "source": [
        "trabalho_busca.result().to_dataframe()"
      ],
      "metadata": {
        "id": "NSuvw_e9J--o"
      },
      "execution_count": null,
      "outputs": []
    },
    {
      "cell_type": "code",
      "source": [
        "trabalho = cliente.query(\"\"\"\n",
        "UPDATE curso-teste-351120.terremotos_brasil.centro_sismo2 SET\n",
        "MagAuthor = 'Allan', _EventID = 'Alura1'\n",
        "WHERE Latitude=-52.95 AND Longitude=-16.48\n",
        "\"\"\")"
      ],
      "metadata": {
        "id": "5NxTz3VQKK23"
      },
      "execution_count": null,
      "outputs": []
    },
    {
      "cell_type": "code",
      "source": [
        "trabalho = cliente.query(\"\"\"\n",
        "DELETE FROM curso-teste-351120.terremotos_brasil.centro_sismo2\n",
        "WHERE Latitude = -59.04 AND Longitude = -16.70\n",
        "\"\"\")"
      ],
      "metadata": {
        "id": "RpYahMwt4ml0"
      },
      "execution_count": null,
      "outputs": []
    }
  ]
}