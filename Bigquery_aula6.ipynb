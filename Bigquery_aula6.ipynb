{
  "nbformat": 4,
  "nbformat_minor": 0,
  "metadata": {
    "colab": {
      "provenance": []
    },
    "kernelspec": {
      "name": "python3",
      "display_name": "Python 3"
    },
    "language_info": {
      "name": "python"
    }
  },
  "cells": [
    {
      "cell_type": "markdown",
      "source": [
        "# Aula 4"
      ],
      "metadata": {
        "id": "_TJllKUGy9wO"
      }
    },
    {
      "cell_type": "markdown",
      "source": [
        "## Vídeo 4.1"
      ],
      "metadata": {
        "id": "gAebwGWtzBxf"
      }
    },
    {
      "cell_type": "code",
      "execution_count": null,
      "metadata": {
        "id": "aJvum9Uwh0Q1"
      },
      "outputs": [],
      "source": [
        "from google.cloud import bigquery\n",
        "from google.oauth2 import service_account"
      ]
    },
    {
      "cell_type": "code",
      "source": [
        "credenciais = service_account.Credentials.from_service_account_file('chave_teste.json')"
      ],
      "metadata": {
        "id": "szpz3iyFh9gC"
      },
      "execution_count": null,
      "outputs": []
    },
    {
      "cell_type": "code",
      "source": [
        "project_id = 'curso-teste-351120'"
      ],
      "metadata": {
        "id": "Dglk0iyjFmqZ"
      },
      "execution_count": null,
      "outputs": []
    },
    {
      "cell_type": "code",
      "source": [
        "cliente = bigquery.Client(credentials=credenciais, project=project_id)"
      ],
      "metadata": {
        "id": "8avi17SdF4HC"
      },
      "execution_count": null,
      "outputs": []
    },
    {
      "cell_type": "code",
      "source": [
        "trabalho_busca = cliente.query(\"\"\"\n",
        "SELECT *\n",
        "FROM `terremotos_brasil.centro_sismo2`;\n",
        "\"\"\")"
      ],
      "metadata": {
        "id": "Hvqg24GiHZ9i"
      },
      "execution_count": null,
      "outputs": []
    },
    {
      "cell_type": "code",
      "source": [
        "trabalho_busca.result().to_dataframe()"
      ],
      "metadata": {
        "id": "dS8khufcJV8B"
      },
      "execution_count": null,
      "outputs": []
    },
    {
      "cell_type": "code",
      "source": [
        "df = trabalho_busca.result().to_dataframe()"
      ],
      "metadata": {
        "id": "2qezawlmJkYp"
      },
      "execution_count": null,
      "outputs": []
    },
    {
      "cell_type": "code",
      "source": [
        "df.head()"
      ],
      "metadata": {
        "id": "pZksjau7EhbA"
      },
      "execution_count": null,
      "outputs": []
    },
    {
      "cell_type": "markdown",
      "source": [
        "## Vídeo 4.2"
      ],
      "metadata": {
        "id": "Fl7klI98mSxw"
      }
    },
    {
      "cell_type": "code",
      "source": [
        "trabalho_busca = cliente.query(\"\"\"\n",
        "SELECT Time, Latitude, Longitude, Depth_km, Magtype, Magnitude\n",
        "FROM `terremotos_brasil.centro_sismo2`\n",
        "WHERE Magtype IS NOT NULL;\n",
        "\"\"\")"
      ],
      "metadata": {
        "id": "ZGseMEUcEjPg"
      },
      "execution_count": null,
      "outputs": []
    },
    {
      "cell_type": "code",
      "source": [
        "trabalho_busca.result().to_dataframe()"
      ],
      "metadata": {
        "id": "8HpweHAHHfAy"
      },
      "execution_count": null,
      "outputs": []
    },
    {
      "cell_type": "code",
      "source": [
        "schema = [\n",
        "    bigquery.SchemaField(\"Time\", \"TIMESTAMP\", mode=\"REQUIRED\"),\n",
        "    bigquery.SchemaField(\"Latitude\",\"FLOAT\", mode=\"REQUIRED\"),\n",
        "    bigquery.SchemaField(\"Longitude\",\"FLOAT\", mode=\"REQUIRED\"),\n",
        "    bigquery.SchemaField(\"Depth_km\", \"FLOAT\", mode=\"NULLABLE\"),\n",
        "    bigquery.SchemaField(\"Magtype\",\"STRING\", mode=\"NULLABLE\"),\n",
        "    bigquery.SchemaField(\"Magnitude\", \"FLOAT\", mode=\"NULLABLE\")\n",
        "]"
      ],
      "metadata": {
        "id": "KDXy7T7dqLVR"
      },
      "execution_count": null,
      "outputs": []
    },
    {
      "cell_type": "code",
      "source": [
        "table_id = \"curso-teste-351120.terremotos_brasil.sismos_do_dia\""
      ],
      "metadata": {
        "id": "G65UctKBuk5K"
      },
      "execution_count": null,
      "outputs": []
    },
    {
      "cell_type": "code",
      "source": [
        "tabela = bigquery.Table(table_id,schema=schema)"
      ],
      "metadata": {
        "id": "kWy-aWRLvUzR"
      },
      "execution_count": null,
      "outputs": []
    },
    {
      "cell_type": "code",
      "source": [
        "tabela = cliente.create_table(tabela)"
      ],
      "metadata": {
        "id": "EekfRr4CHgep"
      },
      "execution_count": null,
      "outputs": []
    },
    {
      "cell_type": "code",
      "source": [
        "from datetime import datetime\n",
        "import pytz\n",
        "import pandas as pd"
      ],
      "metadata": {
        "id": "HAvGuWKF4ucD"
      },
      "execution_count": null,
      "outputs": []
    },
    {
      "cell_type": "code",
      "source": [
        "pytz.country_timezones['br']"
      ],
      "metadata": {
        "id": "s6dhLg_s-OHl"
      },
      "execution_count": null,
      "outputs": []
    },
    {
      "cell_type": "code",
      "source": [
        "pytz.timezone('America/Manaus').localize(datetime(2022, 9,14)).astimezone(pytz.utc)"
      ],
      "metadata": {
        "id": "ZdGjtQ--6JW8"
      },
      "execution_count": null,
      "outputs": []
    },
    {
      "cell_type": "code",
      "source": [
        "linhas = [\n",
        "    {\n",
        "     'Time':pytz.timezone('America/Manaus').localize(datetime(2022, 9,14)).astimezone(pytz.utc),\n",
        "     'Latitude':-59.04,\n",
        "     'Longitude':-16.70,\n",
        "     'Depth_km': 0.0,\n",
        "     'Magtype':'mb',\n",
        "     'Magnitude': 3.5},\n",
        "     {\n",
        "     'Time':pytz.timezone('America/Manaus').localize(datetime(2022, 9,2)).astimezone(pytz.utc),\n",
        "     'Latitude':-52.95,\n",
        "     'Longitude':-16.48,\n",
        "     'Depth_km': 0.0,\n",
        "     'Magtype':'mR',\n",
        "     'Magnitude': 2.8  \n",
        "     },\n",
        "]"
      ],
      "metadata": {
        "id": "fW1ldaqY34kr"
      },
      "execution_count": null,
      "outputs": []
    },
    {
      "cell_type": "code",
      "source": [
        "linhas"
      ],
      "metadata": {
        "id": "gnz-5gqK4iMj"
      },
      "execution_count": null,
      "outputs": []
    },
    {
      "cell_type": "code",
      "source": [
        "dataframe = pd.DataFrame(linhas)"
      ],
      "metadata": {
        "id": "s1x4VmtTBgx-"
      },
      "execution_count": null,
      "outputs": []
    },
    {
      "cell_type": "code",
      "source": [
        "dataframe"
      ],
      "metadata": {
        "id": "HjiuWbdLE0Nn"
      },
      "execution_count": null,
      "outputs": []
    },
    {
      "cell_type": "code",
      "source": [
        "trabalho = cliente.load_table_from_dataframe(\n",
        "    dataframe, table_id\n",
        ")\n",
        "# https://cloud.google.com/bigquery/docs/samples/bigquery-load-table-dataframe"
      ],
      "metadata": {
        "id": "sfGL-ae4ww7p"
      },
      "execution_count": null,
      "outputs": []
    },
    {
      "cell_type": "code",
      "source": [
        "trabalho.result()"
      ],
      "metadata": {
        "id": "M0KpCcPfGrXf"
      },
      "execution_count": null,
      "outputs": []
    },
    {
      "cell_type": "code",
      "source": [
        "trabalho = cliente.load_table_from_dataframe(\n",
        "    dataframe, 'curso-teste-351120.terremotos_brasil.centro_sismo2'\n",
        ")"
      ],
      "metadata": {
        "id": "K4ZF8VdS6apb"
      },
      "execution_count": null,
      "outputs": []
    },
    {
      "cell_type": "code",
      "source": [
        "trabalho_busca = cliente.query(\"\"\"\n",
        "SELECT *\n",
        "FROM `terremotos_brasil.centro_sismo2`\n",
        "WHERE Latitude = -52.95 AND Longitude=-16.48\n",
        "\"\"\")"
      ],
      "metadata": {
        "id": "-PFw81C2JvKX"
      },
      "execution_count": null,
      "outputs": []
    },
    {
      "cell_type": "code",
      "source": [
        "trabalho_busca.result().to_dataframe()"
      ],
      "metadata": {
        "id": "NSuvw_e9J--o"
      },
      "execution_count": null,
      "outputs": []
    },
    {
      "cell_type": "code",
      "source": [
        "trabalho = cliente.query(\"\"\"\n",
        "UPDATE curso-teste-351120.terremotos_brasil.centro_sismo2 SET\n",
        "MagAuthor = 'Allan', _EventID = 'Alura1'\n",
        "WHERE Latitude=-52.95 AND Longitude=-16.48\n",
        "\"\"\")"
      ],
      "metadata": {
        "id": "5NxTz3VQKK23"
      },
      "execution_count": null,
      "outputs": []
    },
    {
      "cell_type": "code",
      "source": [
        "trabalho = cliente.query(\"\"\"\n",
        "DELETE FROM curso-teste-351120.terremotos_brasil.centro_sismo2\n",
        "WHERE Latitude = -59.04 AND Longitude = -16.70\n",
        "\"\"\")"
      ],
      "metadata": {
        "id": "RpYahMwt4ml0"
      },
      "execution_count": null,
      "outputs": []
    },
    {
      "cell_type": "markdown",
      "source": [
        "# Aula 5"
      ],
      "metadata": {
        "id": "OP9GR-f0EFLc"
      }
    },
    {
      "cell_type": "markdown",
      "source": [
        "## Vídeo 5.1"
      ],
      "metadata": {
        "id": "pwlihxkhxzp2"
      }
    },
    {
      "cell_type": "markdown",
      "source": [
        "### Mapa mundi"
      ],
      "metadata": {
        "id": "6NJ1OSZ5iOXj"
      }
    },
    {
      "cell_type": "code",
      "source": [
        "trabalho_busca = cliente.query(\"\"\"\n",
        "SELECT latitude, longitude, intensity\n",
        "FROM `bigquery-public-data.noaa_significant_earthquakes.earthquakes`\n",
        "WHERE latitude IS NOT NULL AND longitude IS NOT NULL AND intensity IS NOT NULL AND country IS NOT NULL\n",
        "\"\"\")"
      ],
      "metadata": {
        "id": "KIIEz-OLEIEs"
      },
      "execution_count": null,
      "outputs": []
    },
    {
      "cell_type": "code",
      "source": [
        "df_mundi = trabalho_busca.result().to_dataframe()"
      ],
      "metadata": {
        "id": "AUqMv2j-HqeR"
      },
      "execution_count": null,
      "outputs": []
    },
    {
      "cell_type": "code",
      "source": [
        "df_mundi.head()"
      ],
      "metadata": {
        "id": "2Z38qfnI9EgG"
      },
      "execution_count": null,
      "outputs": []
    },
    {
      "cell_type": "code",
      "source": [
        "import folium"
      ],
      "metadata": {
        "id": "mCMsH8Z1HwBo"
      },
      "execution_count": null,
      "outputs": []
    },
    {
      "cell_type": "code",
      "source": [
        "mapa_mundi = folium.Map(location=[43.03208,-0.89221],zoom_start=2,tiles='Stamen Terrain')\n",
        "mapa_mundi"
      ],
      "metadata": {
        "id": "TtL8Z1zgJLLx"
      },
      "execution_count": null,
      "outputs": []
    },
    {
      "cell_type": "code",
      "source": [
        "grupo_terremotos = folium.map.FeatureGroup()"
      ],
      "metadata": {
        "id": "0G-DoqXNOTly"
      },
      "execution_count": null,
      "outputs": []
    },
    {
      "cell_type": "code",
      "source": [
        "for lat, lon, in zip(df_mundi['latitude'],df_mundi['longitude']):\n",
        "  grupo_terremotos.add_child(\n",
        "      folium.CircleMarker([lat,lon],radius=2)\n",
        "  )\n",
        "mapa_mundi.add_child(grupo_terremotos)"
      ],
      "metadata": {
        "id": "OGZaix3pNPBp"
      },
      "execution_count": null,
      "outputs": []
    },
    {
      "cell_type": "code",
      "source": [
        "from folium import plugins"
      ],
      "metadata": {
        "id": "wgfBDhLdaR2r"
      },
      "execution_count": null,
      "outputs": []
    },
    {
      "cell_type": "code",
      "source": [
        "mapa_calor = folium.Map(location=[43.03208,-0.89221],zoom_start=2,tiles='Cartodb dark_matter')\n",
        "\n",
        "plugins.HeatMap(df_mundi[['latitude','longitude']]).add_to(mapa_calor)\n",
        "mapa_calor\n"
      ],
      "metadata": {
        "id": "ZNxJaFAg_ItG"
      },
      "execution_count": null,
      "outputs": []
    },
    {
      "cell_type": "markdown",
      "source": [
        "### Escala de intensidade de Mercalli modificada"
      ],
      "metadata": {
        "id": "qHJdWOZGEX2s"
      }
    },
    {
      "cell_type": "markdown",
      "source": [
        "![image.png](data:image/png;base64,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)"
      ],
      "metadata": {
        "id": "RPXlj60KEIWL"
      }
    },
    {
      "cell_type": "code",
      "source": [
        "mapa_intensidade = folium.Map(location=[4.534399,-53.067964],zoom_start=5,tiles='Stamen Terrain')\n",
        "grupo_terremotos = folium.map.FeatureGroup()\n",
        "for lat, lon,intensi in zip(df_mundi['latitude'],df_mundi['longitude'],df_mundi['intensity']):\n",
        "  grupo_terremotos.add_child(\n",
        "      folium.Marker([lat,lon],icon=folium.Icon(color='red',icon_color='yellow',icon='warning-sign'), popup=intensi)\n",
        "  )\n",
        "mapa_intensidade.add_child(grupo_terremotos)"
      ],
      "metadata": {
        "id": "b0PqNP92CR8l"
      },
      "execution_count": null,
      "outputs": []
    },
    {
      "cell_type": "markdown",
      "source": [
        "## Vídeo 5.2"
      ],
      "metadata": {
        "id": "65fwubQA0t2G"
      }
    },
    {
      "cell_type": "markdown",
      "source": [
        "https://cloud.google.com/bigquery/docs/reference/standard-sql/mathematical_functions\n",
        "\n",
        "https://www.usgs.gov/programs/earthquake-hazards/earthquake-magnitude-energy-release-and-shaking-intensity#:~:text=The%20energy%20release%20can%20also,w%20is%20the%20moment%20magnitude.\n"
      ],
      "metadata": {
        "id": "WBNTJlff5giv"
      }
    },
    {
      "cell_type": "markdown",
      "source": [
        "Conversão para energia liberada por um terremoto\n",
        "\n",
        "$ E = e^{5.24+1.44M_W} $\n"
      ],
      "metadata": {
        "id": "svKxqEbTCyPa"
      }
    },
    {
      "cell_type": "code",
      "source": [
        "trabalho_busca = cliente.query(\"\"\"\n",
        "SELECT Time, Latitude, Longitude, Depth_km, Magtype, Magnitude, \n",
        "ROUND(EXP(5.24 + 1.44*Magnitude),2) AS Energy, ST_GEOGPOINT(Longitude, Latitude) AS Pontos,\n",
        "CONCAT(Latitude,',',Longitude) AS LatLon\n",
        "FROM `terremotos_brasil.centro_sismo2` \n",
        "WHERE Magtype IS NOT NULL AND Longitude > -74.10 AND Latitude < 4.42 AND Longitude < -7.26 AND Latitude > -34.03;\n",
        "\"\"\")"
      ],
      "metadata": {
        "id": "sPutbP5BEGzb"
      },
      "execution_count": null,
      "outputs": []
    },
    {
      "cell_type": "code",
      "source": [
        "trabalho_busca.result().to_dataframe()"
      ],
      "metadata": {
        "id": "yiIwoZGfEH-D"
      },
      "execution_count": null,
      "outputs": []
    },
    {
      "cell_type": "code",
      "source": [
        "df_brasil=trabalho_busca.result().to_dataframe()"
      ],
      "metadata": {
        "id": "vUMrclvv-xpx"
      },
      "execution_count": null,
      "outputs": []
    },
    {
      "cell_type": "code",
      "source": [
        "trabalho_busca = cliente.query(\"\"\"\n",
        "WITH texto AS (\n",
        "SELECT 'Terremoto1|teste' as id\n",
        "UNION ALL SELECT 'Terremoto2|Mw' as id\n",
        "UNION ALL SELECT 'Terremoto3|mb' as id)\n",
        "\n",
        "SELECT\n",
        "  REGEXP_EXTRACT(id, r'^[a-zA-Z0-9_]+')\n",
        "  AS id\n",
        "FROM texto\n",
        "\"\"\")\n",
        "trabalho_busca.result().to_dataframe()"
      ],
      "metadata": {
        "id": "XJdezcoM19ru"
      },
      "execution_count": null,
      "outputs": []
    },
    {
      "cell_type": "code",
      "source": [
        "mapa_brasil = folium.Map(location=[-15.77,-47.94],zoom_start=4,tiles='Stamen Terrain')\n",
        "grupo_terremotos = folium.map.FeatureGroup()\n",
        "for lat, lon, in zip(df_brasil['Latitude'],df_brasil['Longitude']):\n",
        "  grupo_terremotos.add_child(\n",
        "      folium.CircleMarker([lat,lon],radius=2)\n",
        "  )\n",
        "mapa_brasil.add_child(grupo_terremotos)"
      ],
      "metadata": {
        "id": "c6w4257n_PUx"
      },
      "execution_count": null,
      "outputs": []
    },
    {
      "cell_type": "code",
      "source": [
        "from geopy.geocoders import Nominatim"
      ],
      "metadata": {
        "id": "lOnn2j_N2Lgo"
      },
      "execution_count": null,
      "outputs": []
    },
    {
      "cell_type": "code",
      "source": [
        "geolocator = Nominatim(user_agent='geoapiExercises')"
      ],
      "metadata": {
        "id": "kADFPmqRA0Pu"
      },
      "execution_count": null,
      "outputs": []
    },
    {
      "cell_type": "code",
      "source": [
        "location = geolocator.reverse(df_brasil['LatLon'][20])"
      ],
      "metadata": {
        "id": "FvHYbFlUQbM3"
      },
      "execution_count": null,
      "outputs": []
    },
    {
      "cell_type": "code",
      "source": [
        "location.raw['address']['state']"
      ],
      "metadata": {
        "id": "-Er1LL-2QkXd"
      },
      "execution_count": null,
      "outputs": []
    },
    {
      "cell_type": "code",
      "source": [
        "bloco1 = df_brasil['LatLon'][0:10].apply(geolocator.geocode)"
      ],
      "metadata": {
        "id": "DJxV_7ntbx8R"
      },
      "execution_count": null,
      "outputs": []
    },
    {
      "cell_type": "code",
      "source": [
        "bloco1"
      ],
      "metadata": {
        "id": "Syuhu4H4g9WN"
      },
      "execution_count": null,
      "outputs": []
    },
    {
      "cell_type": "markdown",
      "source": [
        "https://gpereira.carto.com/tables/brasil_estados/public"
      ],
      "metadata": {
        "id": "pdzQqneMQmvY"
      }
    },
    {
      "cell_type": "code",
      "source": [
        "df_sp = df_brasil.query('Longitude > -53.08 and Longitude < -44.16 and Latitude > -25.31 and Latitude < -19.98')"
      ],
      "metadata": {
        "id": "1tpbr2W0Uk0e"
      },
      "execution_count": null,
      "outputs": []
    },
    {
      "cell_type": "code",
      "source": [
        "df_sp.shape"
      ],
      "metadata": {
        "id": "LYhUKNw4XrOX"
      },
      "execution_count": null,
      "outputs": []
    },
    {
      "cell_type": "code",
      "source": [
        "df_sp"
      ],
      "metadata": {
        "id": "yXp4oFQWXvFH"
      },
      "execution_count": null,
      "outputs": []
    },
    {
      "cell_type": "code",
      "source": [
        "df_sp['Energy'].mean()"
      ],
      "metadata": {
        "id": "Fe_JnjBgX0TP"
      },
      "execution_count": null,
      "outputs": []
    },
    {
      "cell_type": "code",
      "source": [
        "geo = r'/content/brasil_estados.geojson'"
      ],
      "metadata": {
        "id": "8YlQ8BCEvDsy"
      },
      "execution_count": null,
      "outputs": []
    },
    {
      "cell_type": "code",
      "source": [
        "mapa_brasil = folium.Map(location=[-15.77,-47.94],zoom_start=4,tiles='Stamen Terrain')"
      ],
      "metadata": {
        "id": "mZXKlTuwS6f4"
      },
      "execution_count": null,
      "outputs": []
    },
    {
      "cell_type": "code",
      "source": [
        "folium.GeoJson(geo).add_to(mapa_brasil)"
      ],
      "metadata": {
        "id": "HJ2_NkDATWfu"
      },
      "execution_count": null,
      "outputs": []
    },
    {
      "cell_type": "code",
      "source": [
        "mapa_brasil"
      ],
      "metadata": {
        "id": "y4d57x1MTyGO"
      },
      "execution_count": null,
      "outputs": []
    },
    {
      "cell_type": "markdown",
      "source": [
        "https://www.distancelatlong.com/country/brazil/"
      ],
      "metadata": {
        "id": "iRaGmKoYgPLY"
      }
    },
    {
      "cell_type": "code",
      "source": [
        "import pandas as pd"
      ],
      "metadata": {
        "id": "Oi6QRcr3Ya3Z"
      },
      "execution_count": null,
      "outputs": []
    },
    {
      "cell_type": "code",
      "source": [
        "df_energia_media = pd.DataFrame()"
      ],
      "metadata": {
        "id": "IW2fATYsYL32"
      },
      "execution_count": null,
      "outputs": []
    },
    {
      "cell_type": "code",
      "source": [
        "df_energia_media['nome_uf'] = ['Acre','Alagoas','Amap','Amazonas','Bahia','Cear','Esprito Santo',\n",
        "                               'Gois','Maranho','Mato Grosso','Mato Grosso do Sul',\n",
        "                               'Minas Gerais','Par','Paraba','Paran','Pernambuco',\n",
        "                               'Piau','Rio de Janeiro','Rio Grande do Norte','Rio Grande do Sul',\n",
        "                               'Rondnia','Roraima','Santa Catarina','So Paulo','Sergipe',\n",
        "                               'Tocantins','DF']"
      ],
      "metadata": {
        "id": "IfpLOunOYZR-"
      },
      "execution_count": null,
      "outputs": []
    },
    {
      "cell_type": "code",
      "source": [
        "import numpy as np"
      ],
      "metadata": {
        "id": "HoeEqKDxfMH4"
      },
      "execution_count": null,
      "outputs": []
    },
    {
      "cell_type": "code",
      "source": [
        "np.zeros(27)"
      ],
      "metadata": {
        "id": "KJM5KfX3fVdQ"
      },
      "execution_count": null,
      "outputs": []
    },
    {
      "cell_type": "code",
      "source": [
        "df_energia_media['energia'] = np.zeros(27)"
      ],
      "metadata": {
        "id": "mp0iQP_QZZ3x"
      },
      "execution_count": null,
      "outputs": []
    },
    {
      "cell_type": "code",
      "source": [
        "df_energia_media['energia'][23] = df_sp['Energy'].mean()"
      ],
      "metadata": {
        "id": "1-sdYEnSfh84"
      },
      "execution_count": null,
      "outputs": []
    },
    {
      "cell_type": "code",
      "source": [
        "df_energia_media"
      ],
      "metadata": {
        "id": "58i1P3CzfERx"
      },
      "execution_count": null,
      "outputs": []
    },
    {
      "cell_type": "code",
      "source": [
        "folium.Choropleth(\n",
        "    geo_data=geo,\n",
        "    data=df_energia_media,\n",
        "    columns=['nome_uf','energia'],\n",
        "    key_on='properties.nome_uf'\n",
        ").add_to(mapa_brasil)"
      ],
      "metadata": {
        "id": "-BjgnuJmZQKe"
      },
      "execution_count": null,
      "outputs": []
    },
    {
      "cell_type": "code",
      "source": [
        "mapa_brasil"
      ],
      "metadata": {
        "id": "iviOGxS3hVUu"
      },
      "execution_count": null,
      "outputs": []
    },
    {
      "cell_type": "markdown",
      "source": [
        "# Aula 6"
      ],
      "metadata": {
        "id": "UrvD16AFcMhy"
      }
    },
    {
      "cell_type": "code",
      "source": [
        "df_brasil.head()"
      ],
      "metadata": {
        "id": "Nmvfz_jGhi4V"
      },
      "execution_count": null,
      "outputs": []
    },
    {
      "cell_type": "code",
      "source": [
        "trabalho_busca = cliente.query(\"\"\"\n",
        "SELECT Time, Latitude, Longitude, Depth_km, Magtype, Magnitude, \n",
        "ST_GEOGPOINT(Longitude, Latitude) AS Pontos,\n",
        "FROM `terremotos_brasil.centro_sismo2` \n",
        "WHERE Magtype IS NOT NULL AND Longitude > -35.80 AND Latitude < -5.00 AND Longitude < -35.00 AND Latitude > -5.80;\n",
        "\"\"\")"
      ],
      "metadata": {
        "id": "vgXY4LofdM-J"
      },
      "execution_count": null,
      "outputs": []
    },
    {
      "cell_type": "code",
      "source": [
        "df_falha=trabalho_busca.result().to_dataframe()"
      ],
      "metadata": {
        "id": "a5rVN-6uhTdB"
      },
      "execution_count": null,
      "outputs": []
    },
    {
      "cell_type": "code",
      "source": [
        "mapa_falha = folium.Map(location=[-5.33,-35.45],zoom_start=10,tiles='Stamen Terrain')\n",
        "grupo_terremotos = folium.map.FeatureGroup()\n",
        "for lat, lon, in zip(df_falha['Latitude'],df_falha['Longitude']):\n",
        "  grupo_terremotos.add_child(\n",
        "      folium.CircleMarker([lat,lon],radius=2)\n",
        "  )\n",
        "mapa_falha.add_child(grupo_terremotos)"
      ],
      "metadata": {
        "id": "tiCxGZwZiIZo"
      },
      "execution_count": null,
      "outputs": []
    },
    {
      "cell_type": "code",
      "source": [
        "trabalho_busca = cliente.query(\"\"\"\n",
        "SELECT Latitude, Longitude, Pontos, ST_CLUSTERDBSCAN(Pontos,3000,3) OVER () AS cluster_num\n",
        "FROM\n",
        "  (SELECT Time, Latitude, Longitude, Depth_km, Magtype, Magnitude, \n",
        "    ST_GEOGPOINT(Longitude, Latitude) AS Pontos,\n",
        "    FROM `terremotos_brasil.centro_sismo2` \n",
        "    WHERE Magtype IS NOT NULL AND Longitude > -35.80 AND Latitude < -5.00 AND Longitude < -35.00 AND Latitude > -5.80)\n",
        "\n",
        "\"\"\")"
      ],
      "metadata": {
        "id": "OGL3RNyNi4TA"
      },
      "execution_count": null,
      "outputs": []
    },
    {
      "cell_type": "code",
      "source": [
        "df_falha=trabalho_busca.result().to_dataframe()"
      ],
      "metadata": {
        "id": "RaoVNtZnvHS7"
      },
      "execution_count": null,
      "outputs": []
    },
    {
      "cell_type": "code",
      "source": [
        "df_falha"
      ],
      "metadata": {
        "id": "jCfIIMX10jzj"
      },
      "execution_count": null,
      "outputs": []
    },
    {
      "cell_type": "code",
      "source": [
        "df_falha['cluster_num'].unique()"
      ],
      "metadata": {
        "id": "SoZuaC93077B"
      },
      "execution_count": null,
      "outputs": []
    },
    {
      "cell_type": "code",
      "source": [
        "df_falha0 = df_falha.query('cluster_num==0')\n",
        "df_falha1 = df_falha.query('cluster_num==4')"
      ],
      "metadata": {
        "id": "J7xFP7v51alK"
      },
      "execution_count": null,
      "outputs": []
    },
    {
      "cell_type": "code",
      "source": [
        "mapa_falha = folium.Map(location=[-5.33,-35.45],zoom_start=10,tiles='Stamen Terrain')\n",
        "grupo_terremotos0 = folium.map.FeatureGroup()\n",
        "for lat, lon, in zip(df_falha0['Latitude'],df_falha0['Longitude']):\n",
        "  grupo_terremotos0.add_child(\n",
        "      folium.CircleMarker([lat,lon],color='red',radius=1)\n",
        "  )\n",
        "grupo_terremotos1 = folium.map.FeatureGroup()\n",
        "for lat, lon, in zip(df_falha1['Latitude'],df_falha1['Longitude']):\n",
        "  grupo_terremotos0.add_child(\n",
        "      folium.CircleMarker([lat,lon],color='yellow',radius=1)\n",
        "  )\n",
        "mapa_falha.add_child(grupo_terremotos)\n",
        "mapa_falha.add_child(grupo_terremotos0)\n",
        "mapa_falha.add_child(grupo_terremotos1)"
      ],
      "metadata": {
        "id": "tMVsCapBvI6f"
      },
      "execution_count": null,
      "outputs": []
    },
    {
      "cell_type": "markdown",
      "source": [
        "https://noticias.uol.com.br/cotidiano/ultimas-noticias/2011/10/30/mais-de-20-anos-apos-terremoto-joao-camara-rn-volta-a-registrar-atividade-sismica-e-preocupa-populacao.htm"
      ],
      "metadata": {
        "id": "v6NoJT-A8vSB"
      }
    },
    {
      "cell_type": "code",
      "source": [],
      "metadata": {
        "id": "lW7Bl8si1U5n"
      },
      "execution_count": null,
      "outputs": []
    }
  ]
}